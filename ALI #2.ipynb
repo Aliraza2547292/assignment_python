{
 "cells": [
  {
   "cell_type": "code",
   "execution_count": null,
   "metadata": {},
   "outputs": [],
   "source": [
    "#assignment =2\n",
    "percentage =int(input(\"enter your percentage %\"))\n",
    "if  (percentage>=90 and percentage<100):\n",
    "    print(\"A+\")\n",
    "elif(percentage>=80 and percentage<90):\n",
    "    print(\"Grade:A1\")\n",
    "elif(percentage>=70 and percentage<80):\n",
    "    print(\"Grade:A\")\n",
    "elif(percentage>=60 and percentage<70):\n",
    "    print(\"Grade:B\")\n",
    "elif(percentage>=50 and percentage<60):\n",
    "    print(\"Grade:C\")\n",
    "elif(percentage>=40 and percentage<50):\n",
    "    print(\"GRADE D\")\n",
    "elif(percentage>=33 and percentage<40):\n",
    "    print(\"GRADE E\")\n",
    "elif(percentage<33 and percentage>0):\n",
    "    print(\"FAIL\")\n",
    "else:\n",
    "    print(\"you have inapproperiate percentage %\")"
   ]
  }
 ],
 "metadata": {
  "kernelspec": {
   "display_name": "Python 3",
   "language": "python",
   "name": "python3"
  },
  "language_info": {
   "codemirror_mode": {
    "name": "ipython",
    "version": 3
   },
   "file_extension": ".py",
   "mimetype": "text/x-python",
   "name": "python",
   "nbconvert_exporter": "python",
   "pygments_lexer": "ipython3",
   "version": "3.7.4"
  }
 },
 "nbformat": 4,
 "nbformat_minor": 2
}
